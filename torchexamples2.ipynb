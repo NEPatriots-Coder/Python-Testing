{
 "cells": [
  {
   "cell_type": "markdown",
   "id": "120de4e1",
   "metadata": {},
   "source": [
    "[PyTorchLibrary](https://pytorch.org/)"
   ]
  },
  {
   "cell_type": "code",
   "execution_count": 2,
   "id": "5fa269a7-2b96-4792-ba54-2725affb36c9",
   "metadata": {},
   "outputs": [
    {
     "name": "stdout",
     "output_type": "stream",
     "text": [
      "cpu\n"
     ]
    }
   ],
   "source": [
    "import torch\n",
    "import numpy as np\n",
    "import time\n"
   ]
  },
  {
   "cell_type": "markdown",
   "id": "240660f9-e4af-4dbc-a6d1-e11e9b7134b9",
   "metadata": {},
   "source": [
    "### PYTORCH VS NUMPY\n"
   ]
  },
  {
   "cell_type": "code",
   "execution_count": 6,
   "id": "5b91920a-0a5a-4a13-95a3-fd8d057640d1",
   "metadata": {},
   "outputs": [
    {
     "name": "stdout",
     "output_type": "stream",
     "text": [
      "0.0010\n"
     ]
    }
   ],
   "source": [
    "start_time = time.time()\n",
    "#matrix operations;a\n",
    "zeros = torch.zeros(1,1)\n",
    "end_time=time.time()\n",
    "\n",
    "elapsed_time = end_time - start_time\n",
    "print(f\"{elapsed_time:.4f}\")"
   ]
  },
  {
   "cell_type": "code",
   "execution_count": 10,
   "id": "5e02fa00-abed-4fc4-bae4-a861314eaf43",
   "metadata": {},
   "outputs": [
    {
     "name": "stdout",
     "output_type": "stream",
     "text": [
      "0.15697050\n",
      "0.25132537\n"
     ]
    }
   ],
   "source": [
    "torch_rand1 = torch.rand(100, 100, 100, 100).to(device)\n",
    "torch_rand2 = torch.rand(100, 100, 100, 100).to(device)\n",
    "np_rand1 = torch.rand(100, 100, 100, 100)\n",
    "np_rand2 = torch.rand(100, 100, 100, 100)\n",
    "\n",
    "start_time = time.time()\n",
    "\n",
    "rand = (torch_rand1 @ torch_rand2)\n",
    "\n",
    "end_time = time.time()\n",
    "\n",
    "elapsed_time_cpu = end_time - start_time\n",
    "print(f\"{elapsed_time_cpu:.8f}\")\n",
    "\n",
    "\n",
    "start_time = time.time()\n",
    "\n",
    "rand = np.multiply(np_rand1, np_rand2)\n",
    "end_time = time.time()\n",
    "elapsed_time_numpy = end_time - start_time\n",
    "print(f\"{elapsed_time_numpy:.8f}\")"
   ]
  },
  {
   "cell_type": "markdown",
   "id": "78c02255-1266-4c42-a702-bf5d03041f7e",
   "metadata": {},
   "source": [
    "### Embeddings represent categorical variables as continuos vectors. Pytorch we use the nn.Embedding module"
   ]
  },
  {
   "cell_type": "code",
   "execution_count": 6,
   "id": "86fc5d0f",
   "metadata": {},
   "outputs": [],
   "source": [
    "import torch \n",
    "import torch.nn as nn\n",
    "\n",
    "# Define an embedding layer with vocabulary size 100 and embedding dimension 50\n",
    "embedding = nn.Embedding(100, 50)\n",
    "\n",
    "# Input tensor of size (batch_size, sequence_length)\n",
    "input_tensor = torch.LongTensor([[1, 2, 3], [4, 5, 0]])\n",
    "\n",
    "# Get embeddings for the input tensor\n",
    "embeddings = embedding(input_tensor)\n",
    "#print(embeddings)\n"
   ]
  },
  {
   "cell_type": "markdown",
   "id": "a81c9c83",
   "metadata": {},
   "source": [
    "### torch.stack is used to concatenate tensors along a new dimension. Essentially the tensors are stacked on a new dimension"
   ]
  },
  {
   "cell_type": "code",
   "execution_count": 9,
   "id": "8c4be05c",
   "metadata": {},
   "outputs": [],
   "source": [
    "\n",
    "\n",
    "# Create three tensors of size (3, 2)\n",
    "t1 = torch.tensor([[1, 2], [3, 4], [5, 6]])\n",
    "t2 = torch.tensor([[7, 8], [9, 10], [11, 12]])\n",
    "t3 = torch.tensor([[13, 14], [15, 16], [17, 18]])\n",
    "\n",
    "# Stack tensors along a new dimension (resulting tensor shape: (3, 3, 2))\n",
    "stacked_tensor = torch.stack((t1, t2, t3))\n",
    "#stacked_tensor\n"
   ]
  },
  {
   "cell_type": "markdown",
   "id": "41afc0c2",
   "metadata": {},
   "source": [
    "### The block below draws a random sample from a multinomial distribution\n",
    "[Multinomial distribution](https://en.wikipedia.org/wiki/Multinomial_distribution)"
   ]
  },
  {
   "cell_type": "code",
   "execution_count": 11,
   "id": "5171e4c1",
   "metadata": {},
   "outputs": [
    {
     "data": {
      "text/plain": [
       "tensor([3, 2, 3, 3, 2])"
      ]
     },
     "execution_count": 11,
     "metadata": {},
     "output_type": "execute_result"
    }
   ],
   "source": [
    "# Define probabilities for a multinomial distribution\n",
    "probabilities = torch.tensor([0.1, 0.2, 0.3, 0.4])\n",
    "\n",
    "# Draw 5 samples from the multinomial distribution\n",
    "samples = torch.multinomial(probabilities, 5, replacement=True)\n",
    "samples"
   ]
  },
  {
   "cell_type": "markdown",
   "id": "91cfcf3e",
   "metadata": {},
   "source": [
    "### torch.tril returns the lower triangular of a matrix and torch.triu returns the upper portion or triangular of the matrix"
   ]
  },
  {
   "cell_type": "code",
   "execution_count": 14,
   "id": "509e51b5",
   "metadata": {},
   "outputs": [
    {
     "name": "stdout",
     "output_type": "stream",
     "text": [
      "tensor([[1, 0, 0],\n",
      "        [4, 5, 0],\n",
      "        [7, 8, 9]])\n",
      "tensor([[1, 2, 3],\n",
      "        [0, 5, 6],\n",
      "        [0, 0, 9]])\n"
     ]
    }
   ],
   "source": [
    "import torch\n",
    "\n",
    "# Create a 3x3 matrix\n",
    "matrix = torch.tensor([[1, 2, 3], [4, 5, 6], [7, 8, 9]])\n",
    "\n",
    "# Extract the lower triangular part of the matrix\n",
    "lower_triangular = torch.tril(matrix)\n",
    "\n",
    "# Extract the upper triangular part of the matrix\n",
    "upper_triangular = torch.triu(matrix)\n",
    "\n",
    "print(lower_triangular)\n",
    "print(upper_triangular)\n"
   ]
  },
  {
   "cell_type": "code",
   "execution_count": null,
   "id": "b2c48026",
   "metadata": {},
   "outputs": [],
   "source": []
  }
 ],
 "metadata": {
  "kernelspec": {
   "display_name": "cuda",
   "language": "python",
   "name": "python3"
  },
  "language_info": {
   "codemirror_mode": {
    "name": "ipython",
    "version": 3
   },
   "file_extension": ".py",
   "mimetype": "text/x-python",
   "name": "python",
   "nbconvert_exporter": "python",
   "pygments_lexer": "ipython3",
   "version": "3.11.8"
  }
 },
 "nbformat": 4,
 "nbformat_minor": 5
}
