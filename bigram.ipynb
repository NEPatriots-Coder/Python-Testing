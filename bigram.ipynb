{
 "cells": [
  {
   "cell_type": "code",
   "execution_count": 2,
   "id": "0b143f08-e3e8-4c70-97cd-43e4a1307dd3",
   "metadata": {},
   "outputs": [],
   "source": [
    "import torch\n",
    "block_size = 8\n",
    "batch_size = 4"
   ]
  },
  {
   "cell_type": "code",
   "execution_count": 6,
   "id": "14f8d1b0-a1ef-452c-838c-238ed5406ba0",
   "metadata": {},
   "outputs": [
    {
     "name": "stdout",
     "output_type": "stream",
     "text": [
      "74\n"
     ]
    }
   ],
   "source": [
    "with open('wizard_of_oz.txt', 'r', encoding='utf-8') as f:\n",
    "    text = f.read()\n",
    "chars = sorted(set(text))\n",
    "print(len(chars))\n",
    "vocabulary_book_size = len(chars)\n",
    "    "
   ]
  },
  {
   "cell_type": "code",
   "execution_count": 7,
   "id": "8ff839e0-854c-4798-8290-f0a7aec59799",
   "metadata": {},
   "outputs": [
    {
     "name": "stdout",
     "output_type": "stream",
     "text": [
      "[49, 46, 53, 53, 56]\n"
     ]
    }
   ],
   "source": [
    "string_to_int = { ch:i for i,ch in enumerate(chars) }\n",
    "int_to_string = { i:ch for i,ch in enumerate(chars) }\n",
    "encode = lambda s: [string_to_int[c] for c in s]\n",
    "decode = lambda l: ''.join([int_to_string[i] for i in l])\n",
    "print(encode('hello'))"
   ]
  },
  {
   "cell_type": "code",
   "execution_count": 8,
   "id": "617006b3-9289-4546-8892-e69f0f28b1f1",
   "metadata": {},
   "outputs": [
    {
     "name": "stdout",
     "output_type": "stream",
     "text": [
      "tensor([73,  0,  6,  6,  6,  1, 34, 35, 16, 33, 35,  1, 30, 21,  1, 35, 23, 20,\n",
      "         1, 31, 33, 30, 25, 20, 18, 35,  1, 22, 36, 35, 20, 29, 17, 20, 33, 22,\n",
      "         1, 20, 17, 30, 30, 26,  1, 35, 23, 20,  1, 38, 30, 29, 19, 20, 33, 21,\n",
      "        36, 27,  1, 38, 24, 41, 16, 33, 19,  1, 30, 21,  1, 30, 41,  1,  6,  6,\n",
      "         6,  0, 35, 49, 46,  1, 38, 56, 55, 45, 46, 59, 47, 62, 53,  1, 38, 50,\n",
      "        67, 42, 59, 45,  1, 56, 47,  1, 30, 67])\n"
     ]
    }
   ],
   "source": [
    "data = torch.tensor(encode(text) , dtype=torch.long)\n",
    "print(data[:100])"
   ]
  },
  {
   "cell_type": "code",
   "execution_count": 9,
   "id": "7764c667-8f90-4c73-b1eb-c458f5a5f06c",
   "metadata": {},
   "outputs": [],
   "source": [
    "n = int(0.8*len(data))\n",
    "train_data = data[:n]\n",
    "validate_data = data[n:]"
   ]
  },
  {
   "cell_type": "code",
   "execution_count": 10,
   "id": "a101078a-361c-4956-9098-dd3bb9a170b2",
   "metadata": {},
   "outputs": [
    {
     "name": "stdout",
     "output_type": "stream",
     "text": [
      "When input is tensor([73]) target is tensor(0)\n",
      "When input is tensor([73,  0]) target is tensor(6)\n",
      "When input is tensor([73,  0,  6]) target is tensor(6)\n",
      "When input is tensor([73,  0,  6,  6]) target is tensor(6)\n",
      "When input is tensor([73,  0,  6,  6,  6]) target is tensor(1)\n",
      "When input is tensor([73,  0,  6,  6,  6,  1]) target is tensor(34)\n",
      "When input is tensor([73,  0,  6,  6,  6,  1, 34]) target is tensor(35)\n",
      "When input is tensor([73,  0,  6,  6,  6,  1, 34, 35]) target is tensor(16)\n"
     ]
    }
   ],
   "source": [
    "\n",
    "\n",
    "x = train_data[:block_size]\n",
    "y = train_data[1:block_size +1]\n",
    "\n",
    "for t in range(block_size):\n",
    "    context = x[:t+1]\n",
    "    target = y[t]\n",
    "    print('When input is', context, 'target is', target)"
   ]
  },
  {
   "cell_type": "code",
   "execution_count": null,
   "id": "6d9eeb3d-c0ed-428f-8064-30492c0ebd6c",
   "metadata": {},
   "outputs": [],
   "source": []
  }
 ],
 "metadata": {
  "kernelspec": {
   "display_name": "cuda",
   "language": "python",
   "name": "python3"
  },
  "language_info": {
   "codemirror_mode": {
    "name": "ipython",
    "version": 3
   },
   "file_extension": ".py",
   "mimetype": "text/x-python",
   "name": "python",
   "nbconvert_exporter": "python",
   "pygments_lexer": "ipython3",
   "version": "3.11.8"
  }
 },
 "nbformat": 4,
 "nbformat_minor": 5
}
